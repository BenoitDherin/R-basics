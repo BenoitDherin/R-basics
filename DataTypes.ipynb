{
 "metadata": {
  "name": ""
 },
 "nbformat": 3,
 "nbformat_minor": 0,
 "worksheets": [
  {
   "cells": [
    {
     "cell_type": "heading",
     "level": 1,
     "metadata": {},
     "source": [
      "Basic Data Types"
     ]
    },
    {
     "cell_type": "markdown",
     "metadata": {},
     "source": [
      "An **expression** is any *construct* that an *interpreter* can *evaluate*. The there are mainly three types of expressions, corresponding to the **basic data types**: \n",
      "\n",
      "* **numerical** expressions, correponding to the **numerical type** (integer and real numbers)\n",
      "* **textual** expressions, corresponding to the **character type** (characters and strings)\n",
      "* **logical** expressions, corresponding to the **boolean types** (True or False)\n",
      "\n",
      "In most languages, the **basic data types** (numbers, characters, and booleans) are **scalars**, meaning that they come in  units: One can define  ONE number, ONE string, or ONE boolean value.\n",
      "\n",
      "The basic data types are the basic chunk or data that an interpreter can swallow. More complex aggregated data are usually built from these basic data types using the language **basic data structures** (called also containers, or collections) to aggregate the basic data types. _This is not the case in R_.\n",
      "\n",
      "At contrast with most languages, R comes with **vectorized** basic data types, which are already collections of what, in another language as Python for example, one would call basic data types. \n",
      "\n",
      "In R, there is nothing such as a _single_ string, a _single_ boolean, or a _single_ number. Evething comes arrange from start in a _vector of strings_, _vector of boolean_, or _vector of numbers_, which, in R lingo, are called:\n",
      "\n",
      "* numerical vectors\n",
      "* logical vectors\n",
      "* character vectors\n",
      "\n",
      "As in most other linguages, the basic data types have the usual operations defined on them:\n",
      "\n",
      "* arithmetic opreations for numerical types\n",
      "* boolean operations for boolean types\n",
      "* string operations for character types\n",
      "\n",
      "However, since, in R, the basic types are vectorized, these operations are defined **element wise**. \n"
     ]
    },
    {
     "cell_type": "code",
     "collapsed": false,
     "input": [
      "%load_ext rmagic"
     ],
     "language": "python",
     "metadata": {},
     "outputs": [],
     "prompt_number": 1
    },
    {
     "cell_type": "heading",
     "level": 2,
     "metadata": {},
     "source": [
      "Numbers in R"
     ]
    },
    {
     "cell_type": "code",
     "collapsed": false,
     "input": [
      "%%R\n",
      "\n",
      "x = c(1, 2, 3)\n",
      "y = c(2, 3, 5)"
     ],
     "language": "python",
     "metadata": {},
     "outputs": [],
     "prompt_number": 2
    },
    {
     "cell_type": "markdown",
     "metadata": {},
     "source": [
      "Caution: In R, all the operations on basic types are **vectorized**, which means that they are performed element-wise."
     ]
    },
    {
     "cell_type": "code",
     "collapsed": false,
     "input": [
      "%%R\n",
      "\n",
      "z = x + y\n",
      "z = x * y\n",
      "z = x ^ y\n",
      "#etc. \n",
      "\n",
      "print(z)"
     ],
     "language": "python",
     "metadata": {},
     "outputs": [
      {
       "metadata": {},
       "output_type": "display_data",
       "text": [
        "[1]   1   8 243\n"
       ]
      }
     ],
     "prompt_number": 5
    },
    {
     "cell_type": "heading",
     "level": 2,
     "metadata": {},
     "source": [
      "Characters in R"
     ]
    },
    {
     "cell_type": "code",
     "collapsed": false,
     "input": [
      "%%R\n",
      "x = rep('Student', 10)\n",
      "y = sample(1:100, 10)\n",
      "print(x)\n",
      "print(y)"
     ],
     "language": "python",
     "metadata": {},
     "outputs": [
      {
       "metadata": {},
       "output_type": "display_data",
       "text": [
        " [1] \"Student\" \"Student\" \"Student\" \"Student\" \"Student\" \"Student\" \"Student\"\n",
        " [8] \"Student\" \"Student\" \"Student\"\n",
        " [1] 53 47 86 89 60 90 24 44 10 78\n"
       ]
      }
     ],
     "prompt_number": 22
    },
    {
     "cell_type": "code",
     "collapsed": false,
     "input": [
      "%%R\n",
      "z = paste(x,y, sep=':')\n",
      "print(z)"
     ],
     "language": "python",
     "metadata": {},
     "outputs": [
      {
       "metadata": {},
       "output_type": "display_data",
       "text": [
        " [1] \"Student:53\" \"Student:47\" \"Student:86\" \"Student:89\" \"Student:60\"\n",
        " [6] \"Student:90\" \"Student:24\" \"Student:44\" \"Student:10\" \"Student:78\"\n"
       ]
      }
     ],
     "prompt_number": 24
    },
    {
     "cell_type": "heading",
     "level": 2,
     "metadata": {},
     "source": [
      "Booleans in R"
     ]
    },
    {
     "cell_type": "code",
     "collapsed": false,
     "input": [
      "%%R \n",
      "\n",
      "x = rep(T, 10)\n",
      "y = sample(c(T,F), 10, replace=T)\n",
      "\n",
      "print(x)\n",
      "print(y)"
     ],
     "language": "python",
     "metadata": {},
     "outputs": [
      {
       "metadata": {},
       "output_type": "display_data",
       "text": [
        " [1] TRUE TRUE TRUE TRUE TRUE TRUE TRUE TRUE TRUE TRUE\n",
        " [1] FALSE  TRUE FALSE  TRUE  TRUE  TRUE FALSE  TRUE  TRUE  TRUE\n"
       ]
      }
     ],
     "prompt_number": 11
    },
    {
     "cell_type": "code",
     "collapsed": false,
     "input": [
      "%%R\n",
      "\n",
      "print(x | y)\n",
      "print(x & y)\n",
      "print(!y)"
     ],
     "language": "python",
     "metadata": {},
     "outputs": [
      {
       "metadata": {},
       "output_type": "display_data",
       "text": [
        " [1] TRUE TRUE TRUE TRUE TRUE TRUE TRUE TRUE TRUE TRUE\n",
        " [1] FALSE  TRUE FALSE  TRUE  TRUE  TRUE FALSE  TRUE  TRUE  TRUE\n",
        " [1]  TRUE FALSE  TRUE FALSE FALSE FALSE  TRUE FALSE FALSE FALSE\n"
       ]
      }
     ],
     "prompt_number": 18
    },
    {
     "cell_type": "code",
     "collapsed": false,
     "input": [
      "%%R\n",
      "\n",
      "print(any(y))\n",
      "print(all(y))"
     ],
     "language": "python",
     "metadata": {},
     "outputs": [
      {
       "metadata": {},
       "output_type": "display_data",
       "text": [
        "[1] TRUE\n",
        "[1] FALSE\n"
       ]
      }
     ],
     "prompt_number": 14
    },
    {
     "cell_type": "code",
     "collapsed": false,
     "input": [],
     "language": "python",
     "metadata": {},
     "outputs": []
    }
   ],
   "metadata": {}
  }
 ]
}