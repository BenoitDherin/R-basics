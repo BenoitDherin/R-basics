{
 "metadata": {
  "name": ""
 },
 "nbformat": 3,
 "nbformat_minor": 0,
 "worksheets": [
  {
   "cells": [
    {
     "cell_type": "heading",
     "level": 1,
     "metadata": {},
     "source": [
      "Basic Data Types"
     ]
    },
    {
     "cell_type": "markdown",
     "metadata": {},
     "source": [
      "An **expression** is any *construct* that an *interpreter* can *evaluate*. The there are mainly three types of expressions, corresponding to the **basic data types**: \n",
      "\n",
      "* **numerical** expressions, correponding to the **numerical type** (integer and real numbers)\n",
      "* **textual** expressions, corresponding to the **character type** (characters and strings)\n",
      "* **logical** expressions, corresponding to the **boolean types** (True or False)\n",
      "\n",
      "In most languages, the **basic data types** (numbers, characters, and booleans) are **scalars**, meaning that they come in  units: One can define  ONE number, ONE string, or ONE boolean value.\n",
      "\n",
      "The basic data types are the basic chunk or data that an interpreter can swallow. More complex aggregated data are usually built from these basic data types using the language **basic data structures** (called also containers, or collections) to aggregate the basic data types. _This is not the case in R_.\n",
      "\n",
      "At contrast with most languages, R comes with **vectorized** basic data types, which are already collections of what, in another language as Python for example, one would call basic data types. \n",
      "\n",
      "In R, there is nothing such as a _single_ string, a _single_ boolean, or a _single_ number. Evething comes arrange from start in a _vector of strings_, _vector of boolean_, or _vector of numbers_, which, in R lingo, are called:\n",
      "\n",
      "* numerical vectors\n",
      "* logical vectors\n",
      "* character vectors\n",
      "\n",
      "As in most other linguages, the basic data types have the usual operations defined on them:\n",
      "\n",
      "* arithmetic opreations for numerical types\n",
      "* boolean operations for boolean types\n",
      "* string operations for character types\n",
      "\n",
      "However, since, in R, the basic types are vectorized, these operations are defined **element wise**. \n"
     ]
    },
    {
     "cell_type": "code",
     "collapsed": false,
     "input": [
      "%load_ext rmagic"
     ],
     "language": "python",
     "metadata": {},
     "outputs": []
    },
    {
     "cell_type": "heading",
     "level": 2,
     "metadata": {},
     "source": [
      "Numbers in R"
     ]
    },
    {
     "cell_type": "code",
     "collapsed": false,
     "input": [],
     "language": "python",
     "metadata": {},
     "outputs": []
    },
    {
     "cell_type": "code",
     "collapsed": false,
     "input": [],
     "language": "python",
     "metadata": {},
     "outputs": []
    },
    {
     "cell_type": "heading",
     "level": 2,
     "metadata": {},
     "source": [
      "Characters in R"
     ]
    },
    {
     "cell_type": "code",
     "collapsed": false,
     "input": [],
     "language": "python",
     "metadata": {},
     "outputs": []
    },
    {
     "cell_type": "code",
     "collapsed": false,
     "input": [],
     "language": "python",
     "metadata": {},
     "outputs": []
    },
    {
     "cell_type": "heading",
     "level": 2,
     "metadata": {},
     "source": [
      "Booleans in R"
     ]
    },
    {
     "cell_type": "code",
     "collapsed": false,
     "input": [],
     "language": "python",
     "metadata": {},
     "outputs": []
    },
    {
     "cell_type": "code",
     "collapsed": false,
     "input": [],
     "language": "python",
     "metadata": {},
     "outputs": []
    }
   ],
   "metadata": {}
  }
 ]
}