{
 "metadata": {
  "name": ""
 },
 "nbformat": 3,
 "nbformat_minor": 0,
 "worksheets": [
  {
   "cells": [
    {
     "cell_type": "heading",
     "level": 1,
     "metadata": {},
     "source": [
      "Data Frames"
     ]
    },
    {
     "cell_type": "markdown",
     "metadata": {
      "slideshow": {
       "slide_type": "fragment"
      }
     },
     "source": [
      "**Definition:** A  <code>Series</code> is the programmatic embodiement of a **data line**, i.e. a **labelled sequence of data points**:\n",
      "\n",
      "\n",
      "$$x_{i_1},x_{i_2},\\dots, x_{i_n}$$\n",
      "\n",
      "\n",
      "If the labels $i_1,\\dots, i_n$ correspond to \n",
      "\n",
      "* *unique ID of individuals from a population* $\\Omega=\\{1,\\dots,N\\}$, and the data points correspond to the *value of some characteristic* $X:\\Omega\\rightarrow \\mathbb R$ for these individuals, the data line is called a **population sample** (of observations): $x_{i_l} = X(i_l).$\n",
      "\n",
      "\n",
      "* *instant in times* $i_1 < i_2 <\\cdots < i_n$ and the data points correspond to the value of the characteristic $X$ of a single fixed individual $\\omega\\in \\Omega$ but at different moment in times, the data line is called a **time series**: $x_{i_l} = X_{t=i_l}(\\omega).$"
     ]
    },
    {
     "cell_type": "markdown",
     "metadata": {
      "slideshow": {
       "slide_type": "fragment"
      }
     },
     "source": [
      "**Definition:** A  Data Frame is the programmatic embodiement of a **data table**, i.e., a 2D array of values with rows and columns explicitely **labelled**. Usually, \n",
      "\n",
      "* the *row labels*, say $i_1,\\dots, i_n$ correspond to a sample of the unique individual IDs in a population $\\Omega = \\{1,\\dots, N\\}$\n",
      "\n",
      "\n",
      "* the *column labels* correspond to the name $X,Y,Z$ of some characteristics $X,Y,Z:\\Omega\\rightarrow\\mathbb R$ of our population $\\Omega$\n",
      "\n",
      "\n",
      "* The actual *values* in the data tables are the values of these characteristics for the sampled individuals. "
     ]
    },
    {
     "cell_type": "heading",
     "level": 2,
     "metadata": {},
     "source": [
      "The class data.frame"
     ]
    },
    {
     "cell_type": "code",
     "collapsed": false,
     "input": [],
     "language": "python",
     "metadata": {},
     "outputs": []
    },
    {
     "cell_type": "heading",
     "level": 2,
     "metadata": {},
     "source": [
      "Reading data to a data frame"
     ]
    },
    {
     "cell_type": "code",
     "collapsed": false,
     "input": [],
     "language": "python",
     "metadata": {},
     "outputs": []
    },
    {
     "cell_type": "heading",
     "level": 2,
     "metadata": {},
     "source": [
      "Writing data from a data frame"
     ]
    },
    {
     "cell_type": "code",
     "collapsed": false,
     "input": [],
     "language": "python",
     "metadata": {},
     "outputs": []
    },
    {
     "cell_type": "heading",
     "level": 2,
     "metadata": {},
     "source": [
      "Data frames as lists"
     ]
    },
    {
     "cell_type": "code",
     "collapsed": false,
     "input": [],
     "language": "python",
     "metadata": {},
     "outputs": []
    },
    {
     "cell_type": "heading",
     "level": 2,
     "metadata": {},
     "source": [
      "Data frames as matrices"
     ]
    },
    {
     "cell_type": "code",
     "collapsed": false,
     "input": [],
     "language": "python",
     "metadata": {},
     "outputs": []
    },
    {
     "cell_type": "heading",
     "level": 2,
     "metadata": {},
     "source": [
      "Factors and modes"
     ]
    },
    {
     "cell_type": "code",
     "collapsed": false,
     "input": [],
     "language": "python",
     "metadata": {},
     "outputs": []
    },
    {
     "cell_type": "heading",
     "level": 2,
     "metadata": {},
     "source": [
      "Data transformations"
     ]
    },
    {
     "cell_type": "code",
     "collapsed": false,
     "input": [],
     "language": "python",
     "metadata": {},
     "outputs": []
    }
   ],
   "metadata": {}
  }
 ]
}